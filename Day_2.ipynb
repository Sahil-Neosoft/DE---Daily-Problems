{
  "nbformat": 4,
  "nbformat_minor": 0,
  "metadata": {
    "colab": {
      "provenance": []
    },
    "kernelspec": {
      "name": "python3",
      "display_name": "Python 3"
    },
    "language_info": {
      "name": "python"
    }
  },
  "cells": [
    {
      "cell_type": "code",
      "execution_count": null,
      "metadata": {
        "colab": {
          "base_uri": "https://localhost:8080/"
        },
        "id": "Bj7gTol6Osd2",
        "outputId": "e29ef3dd-5ae6-4b15-c028-e1dd2ae1942e"
      },
      "outputs": [
        {
          "output_type": "stream",
          "name": "stdout",
          "text": [
            "Requirement already satisfied: pyspark in /usr/local/lib/python3.12/dist-packages (3.5.1)\n",
            "Requirement already satisfied: py4j==0.10.9.7 in /usr/local/lib/python3.12/dist-packages (from pyspark) (0.10.9.7)\n"
          ]
        }
      ],
      "source": [
        "pip install pyspark"
      ]
    },
    {
      "cell_type": "code",
      "source": [
        "from pyspark.sql.functions import *\n",
        "from pyspark.sql import SparkSession\n",
        "from pyspark.sql.window import Window\n",
        "spark = SparkSession.builder \\\n",
        "    .appName(\"Day 2\") \\\n",
        "    .getOrCreate()"
      ],
      "metadata": {
        "id": "8byAI4GFO1-S"
      },
      "execution_count": null,
      "outputs": []
    },
    {
      "cell_type": "markdown",
      "source": [
        "Problem 1: PySpark – Find Top N Products per Category"
      ],
      "metadata": {
        "id": "4gUluNDgP9Zj"
      }
    },
    {
      "cell_type": "markdown",
      "source": [
        "You have a PySpark DataFrame containing product sales. Each product belongs to a category, and you need to find the top 2 products by sales amount within each category."
      ],
      "metadata": {
        "id": "cEFUXF-xQAST"
      }
    },
    {
      "cell_type": "code",
      "source": [
        "data = [\n",
        "    (\"Electronics\", \"Laptop\", 1200),\n",
        "    (\"Electronics\", \"Phone\", 900),\n",
        "    (\"Electronics\", \"Tablet\", 700),\n",
        "    (\"Clothing\", \"Shirt\", 400),\n",
        "    (\"Clothing\", \"Jeans\", 600),\n",
        "    (\"Clothing\", \"Jacket\", 800)\n",
        "]\n",
        "\n",
        "columns = [\"category\", \"product\", \"sales\"]\n",
        "df = spark.createDataFrame(data, columns)"
      ],
      "metadata": {
        "id": "rbtdFDRBP1G1"
      },
      "execution_count": null,
      "outputs": []
    },
    {
      "cell_type": "code",
      "source": [
        "product_sales=df.groupBy(\"category\",\"product\").agg(sum(col(\"sales\")).alias(\"Total_sales\"))\n",
        "window=Window.partitionBy(\"category\").orderBy(col(\"Total_sales\").desc())\n",
        "result=product_sales.withColumn(\"rank\",row_number().over(window)).filter(col(\"rank\")<=2).select(\"category\",\"product\",\"Total_sales\").show()"
      ],
      "metadata": {
        "colab": {
          "base_uri": "https://localhost:8080/"
        },
        "id": "_76Dr2MoDrle",
        "outputId": "7b46e143-eebc-4cb6-e19f-83ea72e366b8"
      },
      "execution_count": null,
      "outputs": [
        {
          "output_type": "stream",
          "name": "stdout",
          "text": [
            "+-----------+-------+-----------+\n",
            "|   category|product|Total_sales|\n",
            "+-----------+-------+-----------+\n",
            "|   Clothing| Jacket|        800|\n",
            "|   Clothing|  Jeans|        600|\n",
            "|Electronics| Laptop|       1200|\n",
            "|Electronics|  Phone|        900|\n",
            "+-----------+-------+-----------+\n",
            "\n"
          ]
        }
      ]
    },
    {
      "cell_type": "markdown",
      "source": [
        "Problem 2: SQL – Calculate Running Balance"
      ],
      "metadata": {
        "id": "OKPaCRLWRHdt"
      }
    },
    {
      "cell_type": "markdown",
      "source": [
        "You are given a SQL table transactions(user_id, txn_date, amount) where amount can be positive (credit) or negative (debit). Write a SQL query to calculate the running balance for each user ordered by txn_date.\n",
        "\n"
      ],
      "metadata": {
        "id": "yyC6KX_fRJQk"
      }
    },
    {
      "cell_type": "code",
      "source": [
        "data = [\n",
        "    (1, \"2025-01-01\", 500),\n",
        "    (1, \"2025-01-03\", -200),\n",
        "    (1, \"2025-01-05\", 300),\n",
        "    (2, \"2025-01-02\", 1000),\n",
        "    (2, \"2025-01-04\", -400),\n",
        "]\n",
        "columns = [\"user_id\", \"txn_date\", \"amount\"]\n",
        "\n",
        "transactions = spark.createDataFrame(data, columns)\n",
        "\n",
        "transactions = transactions.withColumn(\"txn_date\", to_date(col(\"txn_date\"), \"yyyy-MM-dd\"))\n",
        "\n",
        "transactions.show()\n",
        "transactions.createOrReplaceTempView(\"transactions\")"
      ],
      "metadata": {
        "colab": {
          "base_uri": "https://localhost:8080/"
        },
        "id": "-LHxdLzgLuRd",
        "outputId": "cf247459-316a-4031-c0d4-2b8badce183f"
      },
      "execution_count": 14,
      "outputs": [
        {
          "output_type": "stream",
          "name": "stdout",
          "text": [
            "+-------+----------+------+\n",
            "|user_id|  txn_date|amount|\n",
            "+-------+----------+------+\n",
            "|      1|2025-01-01|   500|\n",
            "|      1|2025-01-03|  -200|\n",
            "|      1|2025-01-05|   300|\n",
            "|      2|2025-01-02|  1000|\n",
            "|      2|2025-01-04|  -400|\n",
            "+-------+----------+------+\n",
            "\n"
          ]
        }
      ]
    },
    {
      "cell_type": "code",
      "source": [
        "result=spark.sql(\n",
        "    \"\"\"\n",
        "      select user_id,txn_date,amount,\n",
        "      sum(amount) over(\n",
        "        partition by user_id order by txn_date\n",
        "        rows between unbounded preceding and current row\n",
        "      ) as running_balance\n",
        "      from transactions\n",
        "      order by user_id,txn_date;\n",
        "    \"\"\"\n",
        ")\n",
        "result.show()"
      ],
      "metadata": {
        "id": "XzSQR2J5RB1E",
        "colab": {
          "base_uri": "https://localhost:8080/"
        },
        "outputId": "73848303-9896-48f7-841d-8e17fb012ba1"
      },
      "execution_count": 18,
      "outputs": [
        {
          "output_type": "stream",
          "name": "stdout",
          "text": [
            "+-------+----------+------+---------------+\n",
            "|user_id|  txn_date|amount|running_balance|\n",
            "+-------+----------+------+---------------+\n",
            "|      1|2025-01-01|   500|            500|\n",
            "|      1|2025-01-03|  -200|            300|\n",
            "|      1|2025-01-05|   300|            600|\n",
            "|      2|2025-01-02|  1000|           1000|\n",
            "|      2|2025-01-04|  -400|            600|\n",
            "+-------+----------+------+---------------+\n",
            "\n"
          ]
        }
      ]
    }
  ]
}