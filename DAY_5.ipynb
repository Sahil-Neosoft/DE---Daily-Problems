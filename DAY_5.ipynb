{
  "nbformat": 4,
  "nbformat_minor": 0,
  "metadata": {
    "colab": {
      "provenance": []
    },
    "kernelspec": {
      "name": "python3",
      "display_name": "Python 3"
    },
    "language_info": {
      "name": "python"
    }
  },
  "cells": [
    {
      "cell_type": "code",
      "execution_count": 1,
      "metadata": {
        "colab": {
          "base_uri": "https://localhost:8080/"
        },
        "id": "PPVOWVvIDWyi",
        "outputId": "3f708a5d-be60-4d6f-961c-da24f6b2874e"
      },
      "outputs": [
        {
          "output_type": "stream",
          "name": "stdout",
          "text": [
            "Requirement already satisfied: pyspark in /usr/local/lib/python3.12/dist-packages (3.5.1)\n",
            "Requirement already satisfied: py4j==0.10.9.7 in /usr/local/lib/python3.12/dist-packages (from pyspark) (0.10.9.7)\n"
          ]
        }
      ],
      "source": [
        "pip install pyspark"
      ]
    },
    {
      "cell_type": "code",
      "source": [
        "from pyspark.sql.functions import *\n",
        "from pyspark.sql import SparkSession\n",
        "from pyspark.sql.window import Window\n",
        "spark=SparkSession.builder \\\n",
        "      .appName(\"Day 5\") \\\n",
        "      .getOrCreate()"
      ],
      "metadata": {
        "id": "lDwQvGGLDmEg"
      },
      "execution_count": 2,
      "outputs": []
    },
    {
      "cell_type": "markdown",
      "source": [
        "Problem 1: PySpark – Calculate Percentage Contribution of Each Product"
      ],
      "metadata": {
        "id": "WH2-RzL_DY4J"
      }
    },
    {
      "cell_type": "markdown",
      "source": [
        "Problem Statement\n",
        "You have a PySpark DataFrame with total sales for different products. Write a PySpark program to calculate the percentage contribution of each product towards the total sales across all products."
      ],
      "metadata": {
        "id": "12SJBQ_4DdZF"
      }
    },
    {
      "cell_type": "code",
      "source": [
        "data = [\n",
        "    (\"Laptop\", 1200),\n",
        "    (\"Phone\", 800),\n",
        "    (\"Tablet\", 500),\n",
        "    (\"Desktop\", 500)\n",
        "]\n",
        "\n",
        "columns = [\"product\", \"sales\"]\n",
        "\n",
        "df = spark.createDataFrame(data, columns)"
      ],
      "metadata": {
        "id": "G9TGxDtADZOu"
      },
      "execution_count": 3,
      "outputs": []
    },
    {
      "cell_type": "code",
      "source": [
        "total_sales = df.agg(sum(\"sales\").alias(\"total_sales\")).first()[\"total_sales\"]\n",
        "\n",
        "df_result = df.withColumn(\n",
        "    \"percentage_contribution\",\n",
        "    round((col(\"sales\") / total_sales) * 100, 1)\n",
        ").show()"
      ],
      "metadata": {
        "colab": {
          "base_uri": "https://localhost:8080/"
        },
        "id": "8iIgsKUGD5cZ",
        "outputId": "d22acd7c-8384-4174-bf47-8f9416901442"
      },
      "execution_count": 6,
      "outputs": [
        {
          "output_type": "stream",
          "name": "stdout",
          "text": [
            "+-------+-----+-----------------------+\n",
            "|product|sales|percentage_contribution|\n",
            "+-------+-----+-----------------------+\n",
            "| Laptop| 1200|                   40.0|\n",
            "|  Phone|  800|                   26.7|\n",
            "| Tablet|  500|                   16.7|\n",
            "|Desktop|  500|                   16.7|\n",
            "+-------+-----+-----------------------+\n",
            "\n"
          ]
        }
      ]
    },
    {
      "cell_type": "markdown",
      "source": [
        "Problem 2: SQL – Identify Months with No Transactions"
      ],
      "metadata": {
        "id": "SgWnNUmWEY4E"
      }
    },
    {
      "cell_type": "markdown",
      "source": [
        "Problem Statement\n",
        "You have a SQL table transactions(txn_id, txn_date, amount). Write a query to find months in 2025 where there were no transactions. Assume txn_date is in YYYY-MM-DD format."
      ],
      "metadata": {
        "id": "Fv6dThacEdBb"
      }
    },
    {
      "cell_type": "code",
      "source": [
        "data = [\n",
        "    (\"T1\", \"2025-01-10\", 100),\n",
        "    (\"T2\", \"2025-01-15\", 200),\n",
        "    (\"T3\", \"2025-03-05\", 300),\n",
        "    (\"T4\", \"2025-05-20\", 400),\n",
        "]\n",
        "\n",
        "columns = [\"txn_id\", \"txn_date\", \"amount\"]\n",
        "\n",
        "transactions = spark.createDataFrame(data, columns)\n",
        "\n",
        "transactions = transactions.withColumn(\"txn_date\", to_date(col(\"txn_date\"), \"yyyy-MM-dd\"))\n",
        "\n",
        "transactions.createOrReplaceTempView(\"transactions\")"
      ],
      "metadata": {
        "id": "YbOe8fppEcWY"
      },
      "execution_count": 7,
      "outputs": []
    },
    {
      "cell_type": "code",
      "source": [
        "months_df = (\n",
        "    spark.sql(\"SELECT sequence(to_date('2025-01-01'), to_date('2025-12-01'), interval 1 month) as months\")\n",
        "    .withColumn(\"month\", expr(\"explode(months)\"))\n",
        "    .withColumn(\"month\", expr(\"date_format(month, 'yyyy-MM')\"))\n",
        "    .select(\"month\")\n",
        ")\n",
        "\n",
        "months_df.createOrReplaceTempView(\"months\")\n",
        "\n",
        "txn_months = spark.sql(\"\"\"\n",
        "    SELECT DISTINCT date_format(txn_date, 'yyyy-MM') AS month\n",
        "    FROM transactions\n",
        "    WHERE year(txn_date) = 2025\n",
        "\"\"\")\n",
        "txn_months.createOrReplaceTempView(\"txn_months\")\n",
        "\n",
        "missing_months = spark.sql(\"\"\"\n",
        "    SELECT m.month AS missing_month\n",
        "    FROM months m\n",
        "    LEFT JOIN txn_months t\n",
        "           ON m.month = t.month\n",
        "    WHERE t.month IS NULL\n",
        "    ORDER BY m.month\n",
        "\"\"\")\n",
        "\n",
        "missing_months.show()"
      ],
      "metadata": {
        "colab": {
          "base_uri": "https://localhost:8080/"
        },
        "id": "ZAgz2h4BFYYr",
        "outputId": "9513eb61-107e-4693-ee56-d9267a87ca36"
      },
      "execution_count": 8,
      "outputs": [
        {
          "output_type": "stream",
          "name": "stdout",
          "text": [
            "+-------------+\n",
            "|missing_month|\n",
            "+-------------+\n",
            "|      2025-02|\n",
            "|      2025-04|\n",
            "|      2025-06|\n",
            "|      2025-07|\n",
            "|      2025-08|\n",
            "|      2025-09|\n",
            "|      2025-10|\n",
            "|      2025-11|\n",
            "|      2025-12|\n",
            "+-------------+\n",
            "\n"
          ]
        }
      ]
    }
  ]
}