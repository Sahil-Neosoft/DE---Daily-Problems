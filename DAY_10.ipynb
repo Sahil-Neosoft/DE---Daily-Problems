{
  "nbformat": 4,
  "nbformat_minor": 0,
  "metadata": {
    "colab": {
      "provenance": []
    },
    "kernelspec": {
      "name": "python3",
      "display_name": "Python 3"
    },
    "language_info": {
      "name": "python"
    }
  },
  "cells": [
    {
      "cell_type": "code",
      "execution_count": 98,
      "metadata": {
        "colab": {
          "base_uri": "https://localhost:8080/"
        },
        "id": "rVWAIGgavYzQ",
        "outputId": "523c6ddd-6676-4077-e109-115c18a32a7d"
      },
      "outputs": [
        {
          "output_type": "stream",
          "name": "stdout",
          "text": [
            "Requirement already satisfied: pyspark in /usr/local/lib/python3.12/dist-packages (3.5.1)\n",
            "Requirement already satisfied: py4j==0.10.9.7 in /usr/local/lib/python3.12/dist-packages (from pyspark) (0.10.9.7)\n"
          ]
        }
      ],
      "source": [
        "pip install pyspark"
      ]
    },
    {
      "cell_type": "code",
      "source": [
        "from pyspark.sql import SparkSession\n",
        "from pyspark.sql.functions import *\n",
        "from pyspark.sql.window import Window\n",
        "spark=SparkSession.builder.appName(\"Day 10\").getOrCreate()"
      ],
      "metadata": {
        "id": "UVueEKmZvdDq"
      },
      "execution_count": 99,
      "outputs": []
    },
    {
      "cell_type": "code",
      "source": [
        "df=spark.read.csv(\"/content/sample_data/iot_sensor_data.csv\",\n",
        "inferSchema=True,\n",
        "header=True)"
      ],
      "metadata": {
        "id": "5IaM4jh_vfxr"
      },
      "execution_count": 100,
      "outputs": []
    },
    {
      "cell_type": "code",
      "source": [
        "df.show()"
      ],
      "metadata": {
        "colab": {
          "base_uri": "https://localhost:8080/"
        },
        "id": "xeEltz53v1Yl",
        "outputId": "2745124e-772b-4a3e-dfe5-69a415ae9d4b"
      },
      "execution_count": 101,
      "outputs": [
        {
          "output_type": "stream",
          "name": "stdout",
          "text": [
            "+---------+------------+-------------------+-----------+--------+-------------+-----------+\n",
            "|sensor_id|warehouse_id|          timestamp|temperature|humidity|battery_level|     status|\n",
            "+---------+------------+-------------------+-----------+--------+-------------+-----------+\n",
            "|  S_W37_2|         W37|2025-08-25 01:00:00|       27.3|    56.6|         71.8|         OK|\n",
            "|   S_W1_5|          W1|2025-08-25 02:20:00|       34.3|    62.1|         50.9|         OK|\n",
            "|  S_W10_5|         W10|2025-08-25 01:30:00|       31.6|    66.3|         60.9|         OK|\n",
            "|  S_W20_2|         W20|2025-08-25 02:30:00|       27.5|    57.2|         77.1|         OK|\n",
            "|  S_W43_5|         W43|2025-08-25 02:40:00|       20.5|     0.0|         87.6|         OK|\n",
            "|  S_W14_5|         W14|2025-08-25 02:55:00|       25.1|    56.3|         62.9|         OK|\n",
            "|  S_W39_2|         W39|2025-08-25 00:30:00|       21.8|    59.2|         68.0|         OK|\n",
            "|  S_W41_5|         W41|2025-08-25 02:25:00|       32.5|    61.8|         93.2|         OK|\n",
            "|  S_W31_2|         W31|2025-08-25 01:10:00|       30.0|    60.7|         81.1|         OK|\n",
            "|   S_W1_3|          W1|2025-08-25 01:45:00|       26.1|    56.4|         62.3|         OK|\n",
            "|  S_W14_5|         W14|2025-08-25 00:25:00|       23.6|    58.8|         90.8|         OK|\n",
            "|  S_W18_1|         W18|2025-08-25 00:15:00|       25.7|    58.1|         52.0|         OK|\n",
            "|   S_W3_4|          W3|2025-08-25 03:20:00|       24.4|    62.8|         72.8|         OK|\n",
            "|  S_W50_4|         W50|2025-08-25 00:30:00|       26.5|    59.1|         67.2|         OK|\n",
            "|  S_W49_5|         W49|2025-08-25 02:20:00|       23.3|    68.1|         88.0|         OK|\n",
            "|  S_W34_3|         W34|2025-08-25 02:55:00|     -100.0|    49.9|         88.5|MALFUNCTION|\n",
            "|  S_W20_2|         W20|2025-08-25 00:20:00|       24.5|    49.8|         58.5|         OK|\n",
            "|  S_W46_2|         W46|2025-08-25 04:55:00|       27.9|    68.0|         67.6|         OK|\n",
            "|  S_W33_3|         W33|2025-08-25 01:50:00|       25.0|    56.9|         86.4|         OK|\n",
            "|   S_W1_1|          W1|2025-08-25 03:55:00|       23.0|    60.5|         90.6|         OK|\n",
            "+---------+------------+-------------------+-----------+--------+-------------+-----------+\n",
            "only showing top 20 rows\n",
            "\n"
          ]
        }
      ]
    },
    {
      "cell_type": "markdown",
      "source": [
        "## **Problem Scenario: IoT Sensor Data Monitoring**\n",
        "\n",
        "### **Background**\n",
        "\n",
        "You work for a company that operates **smart warehouses** equipped with **IoT temperature and humidity sensors** in multiple locations worldwide. These sensors send readings every few minutes to a central data pipeline.\n",
        "\n",
        "However, the raw data is messy:\n",
        "\n",
        "* Some readings are missing or delayed.\n",
        "* Multiple sensors sometimes report at the same timestamp.\n",
        "* Occasionally, sensors malfunction and send outlier readings (e.g., -100°C).\n",
        "\n",
        "Your team needs **daily aggregated metrics** to monitor warehouse conditions and ensure compliance with safety regulations.\n",
        "\n",
        "---\n",
        "\n",
        "### **Data Generation Requirements**\n",
        "\n",
        "* **CSV with at least 1000 rows**\n",
        "* 50+ unique **warehouse locations**\n",
        "* Columns:\n",
        "\n",
        "  * `sensor_id`\n",
        "  * `warehouse_id`\n",
        "  * `timestamp`\n",
        "  * `temperature` (°C)\n",
        "  * `humidity` (%)\n",
        "  * `battery_level` (%)\n",
        "  * `status` (OK, MALFUNCTION)\n",
        "* Edge cases: missing readings, outlier values, multiple readings at same timestamp\n",
        "\n",
        "---\n",
        "\n",
        "## **Problem Definition**\n",
        "\n",
        "You need to process the IoT sensor data using **PySpark** to generate:\n",
        "\n",
        "1. **Daily metrics per warehouse**\n",
        "\n",
        "   * Average, min, max temperature and humidity\n",
        "   * Percentage of malfunctioning sensors\n",
        "   * Count of missing readings (gaps > 15 min)\n",
        "   * Average battery level\n",
        "\n",
        "2. **Outlier Detection Table**\n",
        "\n",
        "   * Identify sensors with extreme values (e.g., temp < -20°C or temp > 60°C, humidity > 90%)\n",
        "\n",
        "3. **Handle Edge Cases**\n",
        "\n",
        "   * Missing readings → fill with previous valid value\n",
        "   * Malfunctioning sensors → exclude from averages\n",
        "\n",
        "---\n",
        "\n",
        "## **Sample Input Table (Simplified)**\n",
        "\n",
        "| sensor\\_id | warehouse\\_id | timestamp           | temperature | humidity | battery\\_level | status      |\n",
        "| ---------- | ------------- | ------------------- | ----------- | -------- | -------------- | ----------- |\n",
        "| S1         | W1            | 2025-08-25 09:00:00 | 25.5        | 60       | 85             | OK          |\n",
        "| S1         | W1            | 2025-08-25 09:15:00 | 26.0        | 59       | 84             | OK          |\n",
        "| S2         | W1            | 2025-08-25 09:00:00 | -100.0      | 61       | 80             | MALFUNCTION |\n",
        "| S3         | W2            | 2025-08-25 09:05:00 | 22.3        | 58       | 90             | OK          |\n",
        "| S3         | W2            | 2025-08-25 09:20:00 | 23.0        | 57       | 89             | OK          |\n",
        "\n",
        "---\n",
        "\n",
        "## **Expected Output 1 – Daily Metrics Table**\n",
        "\n",
        "| warehouse\\_id | date       | avg\\_temp | min\\_temp | max\\_temp | avg\\_humidity | malfunction\\_pct | missing\\_readings | avg\\_battery |\n",
        "| ------------- | ---------- | --------- | --------- | --------- | ------------- | ---------------- | ----------------- | ------------ |\n",
        "| W1            | 2025-08-25 | 25.8      | 25.5      | 26.0      | 59.5          | 10%              | 1                 | 84.5         |\n",
        "| W2            | 2025-08-25 | 22.6      | 22.3      | 23.0      | 57.5          | 0%               | 0                 | 89.5         |\n",
        "\n",
        "---\n",
        "\n",
        "## **Expected Output 2 – Outlier Detection Table**\n",
        "\n",
        "| sensor\\_id | warehouse\\_id | date       | outlier\\_type | value  |\n",
        "| ---------- | ------------- | ---------- | ------------- | ------ |\n",
        "| S2         | W1            | 2025-08-25 | Temp Low      | -100.0 |\n",
        "| S3         | W2            | 2025-08-25 | Humidity High | 95.0   |\n",
        "\n",
        "---\n",
        "\n",
        "## **Scalability & Realism**\n",
        "\n",
        "* Use **window functions** for gap detection\n",
        "* **Partition by date & warehouse** for big data scalability\n",
        "* Outlier detection logic should be configurable (e.g., thresholds from config table)\n",
        "* Could be extended to **streaming pipelines** with Spark Structured Streaming\n",
        "\n",
        "---"
      ],
      "metadata": {
        "id": "sqw8yLb4Qpci"
      }
    },
    {
      "cell_type": "code",
      "source": [
        "df=df.withColumn(\"timestamp\",to_timestamp(\"timestamp\")).withColumn(\"date\",to_date(\"timestamp\").alias(\"date\"))\n",
        "df.show()"
      ],
      "metadata": {
        "colab": {
          "base_uri": "https://localhost:8080/"
        },
        "id": "7l6oYcw9v80r",
        "outputId": "16b164de-71af-459f-8266-bee524ef3777"
      },
      "execution_count": 102,
      "outputs": [
        {
          "output_type": "stream",
          "name": "stdout",
          "text": [
            "+---------+------------+-------------------+-----------+--------+-------------+-----------+----------+\n",
            "|sensor_id|warehouse_id|          timestamp|temperature|humidity|battery_level|     status|      date|\n",
            "+---------+------------+-------------------+-----------+--------+-------------+-----------+----------+\n",
            "|  S_W37_2|         W37|2025-08-25 01:00:00|       27.3|    56.6|         71.8|         OK|2025-08-25|\n",
            "|   S_W1_5|          W1|2025-08-25 02:20:00|       34.3|    62.1|         50.9|         OK|2025-08-25|\n",
            "|  S_W10_5|         W10|2025-08-25 01:30:00|       31.6|    66.3|         60.9|         OK|2025-08-25|\n",
            "|  S_W20_2|         W20|2025-08-25 02:30:00|       27.5|    57.2|         77.1|         OK|2025-08-25|\n",
            "|  S_W43_5|         W43|2025-08-25 02:40:00|       20.5|     0.0|         87.6|         OK|2025-08-25|\n",
            "|  S_W14_5|         W14|2025-08-25 02:55:00|       25.1|    56.3|         62.9|         OK|2025-08-25|\n",
            "|  S_W39_2|         W39|2025-08-25 00:30:00|       21.8|    59.2|         68.0|         OK|2025-08-25|\n",
            "|  S_W41_5|         W41|2025-08-25 02:25:00|       32.5|    61.8|         93.2|         OK|2025-08-25|\n",
            "|  S_W31_2|         W31|2025-08-25 01:10:00|       30.0|    60.7|         81.1|         OK|2025-08-25|\n",
            "|   S_W1_3|          W1|2025-08-25 01:45:00|       26.1|    56.4|         62.3|         OK|2025-08-25|\n",
            "|  S_W14_5|         W14|2025-08-25 00:25:00|       23.6|    58.8|         90.8|         OK|2025-08-25|\n",
            "|  S_W18_1|         W18|2025-08-25 00:15:00|       25.7|    58.1|         52.0|         OK|2025-08-25|\n",
            "|   S_W3_4|          W3|2025-08-25 03:20:00|       24.4|    62.8|         72.8|         OK|2025-08-25|\n",
            "|  S_W50_4|         W50|2025-08-25 00:30:00|       26.5|    59.1|         67.2|         OK|2025-08-25|\n",
            "|  S_W49_5|         W49|2025-08-25 02:20:00|       23.3|    68.1|         88.0|         OK|2025-08-25|\n",
            "|  S_W34_3|         W34|2025-08-25 02:55:00|     -100.0|    49.9|         88.5|MALFUNCTION|2025-08-25|\n",
            "|  S_W20_2|         W20|2025-08-25 00:20:00|       24.5|    49.8|         58.5|         OK|2025-08-25|\n",
            "|  S_W46_2|         W46|2025-08-25 04:55:00|       27.9|    68.0|         67.6|         OK|2025-08-25|\n",
            "|  S_W33_3|         W33|2025-08-25 01:50:00|       25.0|    56.9|         86.4|         OK|2025-08-25|\n",
            "|   S_W1_1|          W1|2025-08-25 03:55:00|       23.0|    60.5|         90.6|         OK|2025-08-25|\n",
            "+---------+------------+-------------------+-----------+--------+-------------+-----------+----------+\n",
            "only showing top 20 rows\n",
            "\n"
          ]
        }
      ]
    },
    {
      "cell_type": "code",
      "source": [
        "valid_df=df.filter(col(\"status\")==\"OK\")\n",
        "valid_df.show()"
      ],
      "metadata": {
        "colab": {
          "base_uri": "https://localhost:8080/"
        },
        "id": "ovYovuuvy5de",
        "outputId": "b451b67f-b4af-43b6-cf40-cecb00a2c4d1"
      },
      "execution_count": 103,
      "outputs": [
        {
          "output_type": "stream",
          "name": "stdout",
          "text": [
            "+---------+------------+-------------------+-----------+--------+-------------+------+----------+\n",
            "|sensor_id|warehouse_id|          timestamp|temperature|humidity|battery_level|status|      date|\n",
            "+---------+------------+-------------------+-----------+--------+-------------+------+----------+\n",
            "|  S_W37_2|         W37|2025-08-25 01:00:00|       27.3|    56.6|         71.8|    OK|2025-08-25|\n",
            "|   S_W1_5|          W1|2025-08-25 02:20:00|       34.3|    62.1|         50.9|    OK|2025-08-25|\n",
            "|  S_W10_5|         W10|2025-08-25 01:30:00|       31.6|    66.3|         60.9|    OK|2025-08-25|\n",
            "|  S_W20_2|         W20|2025-08-25 02:30:00|       27.5|    57.2|         77.1|    OK|2025-08-25|\n",
            "|  S_W43_5|         W43|2025-08-25 02:40:00|       20.5|     0.0|         87.6|    OK|2025-08-25|\n",
            "|  S_W14_5|         W14|2025-08-25 02:55:00|       25.1|    56.3|         62.9|    OK|2025-08-25|\n",
            "|  S_W39_2|         W39|2025-08-25 00:30:00|       21.8|    59.2|         68.0|    OK|2025-08-25|\n",
            "|  S_W41_5|         W41|2025-08-25 02:25:00|       32.5|    61.8|         93.2|    OK|2025-08-25|\n",
            "|  S_W31_2|         W31|2025-08-25 01:10:00|       30.0|    60.7|         81.1|    OK|2025-08-25|\n",
            "|   S_W1_3|          W1|2025-08-25 01:45:00|       26.1|    56.4|         62.3|    OK|2025-08-25|\n",
            "|  S_W14_5|         W14|2025-08-25 00:25:00|       23.6|    58.8|         90.8|    OK|2025-08-25|\n",
            "|  S_W18_1|         W18|2025-08-25 00:15:00|       25.7|    58.1|         52.0|    OK|2025-08-25|\n",
            "|   S_W3_4|          W3|2025-08-25 03:20:00|       24.4|    62.8|         72.8|    OK|2025-08-25|\n",
            "|  S_W50_4|         W50|2025-08-25 00:30:00|       26.5|    59.1|         67.2|    OK|2025-08-25|\n",
            "|  S_W49_5|         W49|2025-08-25 02:20:00|       23.3|    68.1|         88.0|    OK|2025-08-25|\n",
            "|  S_W20_2|         W20|2025-08-25 00:20:00|       24.5|    49.8|         58.5|    OK|2025-08-25|\n",
            "|  S_W46_2|         W46|2025-08-25 04:55:00|       27.9|    68.0|         67.6|    OK|2025-08-25|\n",
            "|  S_W33_3|         W33|2025-08-25 01:50:00|       25.0|    56.9|         86.4|    OK|2025-08-25|\n",
            "|   S_W1_1|          W1|2025-08-25 03:55:00|       23.0|    60.5|         90.6|    OK|2025-08-25|\n",
            "|   S_W2_2|          W2|2025-08-25 01:25:00|       26.4|    61.1|         98.1|    OK|2025-08-25|\n",
            "+---------+------------+-------------------+-----------+--------+-------------+------+----------+\n",
            "only showing top 20 rows\n",
            "\n"
          ]
        }
      ]
    },
    {
      "cell_type": "markdown",
      "source": [
        "Fill missing readings with previous valid value (forward fill)"
      ],
      "metadata": {
        "id": "9Ogz9Q-C2wGt"
      }
    },
    {
      "cell_type": "code",
      "source": [
        "window_ffill=Window.partitionBy(\"sensor_id\").orderBy(\"timestamp\")\n",
        "filled_df=valid_df.withColumn(\"temperature\",when(col(\"temperature\").isNull(),lag(\"temperature\",1).over(window_ffill)).otherwise(col(\"temperature\")))\\\n",
        "          .withColumn(\"humidity\",when(col(\"humidity\").isNull(),lag(\"humidity\",1).over(window_ffill)).otherwise(col(\"humidity\")))\n",
        "filled_df.show()"
      ],
      "metadata": {
        "colab": {
          "base_uri": "https://localhost:8080/"
        },
        "id": "yySi7HpM2hrf",
        "outputId": "2e007e91-fee5-406d-f19d-b46f3ed5afde"
      },
      "execution_count": 104,
      "outputs": [
        {
          "output_type": "stream",
          "name": "stdout",
          "text": [
            "+---------+------------+-------------------+-----------+--------+-------------+------+----------+\n",
            "|sensor_id|warehouse_id|          timestamp|temperature|humidity|battery_level|status|      date|\n",
            "+---------+------------+-------------------+-----------+--------+-------------+------+----------+\n",
            "|  S_W10_1|         W10|2025-08-25 00:20:00|       26.0|    59.8|         82.5|    OK|2025-08-25|\n",
            "|  S_W10_1|         W10|2025-08-25 00:35:00|       25.4|    60.1|         60.5|    OK|2025-08-25|\n",
            "|  S_W10_1|         W10|2025-08-25 00:40:00|       24.5|    62.5|         92.1|    OK|2025-08-25|\n",
            "|  S_W10_1|         W10|2025-08-25 00:50:00|       29.0|    60.9|         76.0|    OK|2025-08-25|\n",
            "|  S_W10_1|         W10|2025-08-25 01:10:00|       28.2|    56.8|         84.0|    OK|2025-08-25|\n",
            "|  S_W10_1|         W10|2025-08-25 01:25:00|       26.4|    62.8|         83.7|    OK|2025-08-25|\n",
            "|  S_W10_1|         W10|2025-08-25 01:45:00|       24.7|    54.3|         79.2|    OK|2025-08-25|\n",
            "|  S_W10_1|         W10|2025-08-25 01:50:00|       24.5|    59.1|         80.9|    OK|2025-08-25|\n",
            "|  S_W10_1|         W10|2025-08-25 02:00:00|       26.0|    63.3|         93.1|    OK|2025-08-25|\n",
            "|  S_W10_1|         W10|2025-08-25 02:15:00|       21.5|    66.4|         50.1|    OK|2025-08-25|\n",
            "|  S_W10_1|         W10|2025-08-25 02:55:00|       22.7|    73.9|         56.3|    OK|2025-08-25|\n",
            "|  S_W10_1|         W10|2025-08-25 03:05:00|       22.3|    70.9|         57.1|    OK|2025-08-25|\n",
            "|  S_W10_1|         W10|2025-08-25 03:40:00|       20.2|    60.4|         63.9|    OK|2025-08-25|\n",
            "|  S_W10_1|         W10|2025-08-25 03:45:00|       28.4|    53.0|         73.8|    OK|2025-08-25|\n",
            "|  S_W10_1|         W10|2025-08-25 03:50:00|       20.7|    59.9|         61.5|    OK|2025-08-25|\n",
            "|  S_W10_1|         W10|2025-08-25 04:10:00|       27.7|    53.6|         81.9|    OK|2025-08-25|\n",
            "|  S_W10_1|         W10|2025-08-25 04:25:00|       26.7|    60.1|         62.4|    OK|2025-08-25|\n",
            "|  S_W10_1|         W10|2025-08-25 04:30:00|       25.3|    55.0|         84.9|    OK|2025-08-25|\n",
            "|  S_W10_2|         W10|2025-08-25 00:20:00|       27.6|    56.3|         94.4|    OK|2025-08-25|\n",
            "|  S_W10_2|         W10|2025-08-25 00:40:00|       30.8|    62.7|         94.9|    OK|2025-08-25|\n",
            "+---------+------------+-------------------+-----------+--------+-------------+------+----------+\n",
            "only showing top 20 rows\n",
            "\n"
          ]
        }
      ]
    },
    {
      "cell_type": "markdown",
      "source": [
        "Detect Missing Readings"
      ],
      "metadata": {
        "id": "UXa3jM5J8288"
      }
    },
    {
      "cell_type": "code",
      "source": [
        "window=Window.partitionBy(\"sensor_id\").orderBy(\"timestamp\")\n",
        "gap_df=df.withColumn(\"prev_time\",lag(col(\"timestamp\"),1).over(window))\\\n",
        "          .withColumn(\"gap_minutes\",col(\"timestamp\").cast(\"long\")-col(\"prev_time\").cast(\"long\")/60)\\\n",
        "          .withColumn(\"is_missing\",when(col(\"gap_minutes\")>15,1).otherwise(0))\n",
        "\n",
        "cnt_missing=gap_df.groupBy(\"warehouse_id\",\"date\").agg(sum(col(\"is_missing\")).alias(\"missing_readings\"))\n",
        "cnt_missing.show()"
      ],
      "metadata": {
        "colab": {
          "base_uri": "https://localhost:8080/"
        },
        "id": "ntRocipU5ti3",
        "outputId": "76862767-941d-4323-f9fc-e374ac06feb0"
      },
      "execution_count": 105,
      "outputs": [
        {
          "output_type": "stream",
          "name": "stdout",
          "text": [
            "+------------+----------+----------------+\n",
            "|warehouse_id|      date|missing_readings|\n",
            "+------------+----------+----------------+\n",
            "|         W45|2025-08-25|              93|\n",
            "|         W44|2025-08-25|              94|\n",
            "|         W29|2025-08-25|              90|\n",
            "|          W7|2025-08-25|              93|\n",
            "|         W34|2025-08-25|              92|\n",
            "|         W17|2025-08-25|              89|\n",
            "|         W21|2025-08-25|              91|\n",
            "|         W46|2025-08-25|              92|\n",
            "|          W1|2025-08-25|              91|\n",
            "|         W36|2025-08-25|              90|\n",
            "|         W27|2025-08-25|              88|\n",
            "|         W15|2025-08-25|              91|\n",
            "|         W37|2025-08-25|              91|\n",
            "|         W48|2025-08-25|              89|\n",
            "|         W12|2025-08-25|              89|\n",
            "|          W3|2025-08-25|              89|\n",
            "|          W5|2025-08-25|              93|\n",
            "|         W31|2025-08-25|              92|\n",
            "|         W26|2025-08-25|              91|\n",
            "|         W41|2025-08-25|              91|\n",
            "+------------+----------+----------------+\n",
            "only showing top 20 rows\n",
            "\n"
          ]
        }
      ]
    },
    {
      "cell_type": "markdown",
      "source": [
        " Daily Metrics per Warehouse"
      ],
      "metadata": {
        "id": "KWnbIlbyFbJy"
      }
    },
    {
      "cell_type": "code",
      "source": [
        "  daily_metrics=filled_df.groupBy(\"warehouse_id\",\"date\")\\\n",
        "                .agg(\n",
        "                    round(avg(col(\"temperature\")),2).alias(\"avg_temp\"),\n",
        "                    min(col(\"temperature\")).alias(\"min_temp\"),\n",
        "                    max(col(\"temperature\")).alias(\"max_temp\"),\n",
        "                    round(avg(col(\"humidity\")),2).alias(\"avg_humidity\"),\n",
        "                    round(avg(col(\"battery_level\")),2).alias(\"avg_battery\")\n",
        "                )\n",
        "daily_metrics.show()"
      ],
      "metadata": {
        "colab": {
          "base_uri": "https://localhost:8080/"
        },
        "id": "WePNaIn-CcSr",
        "outputId": "4092a2bf-c53d-4a1a-c194-df39827e2670"
      },
      "execution_count": 106,
      "outputs": [
        {
          "output_type": "stream",
          "name": "stdout",
          "text": [
            "+------------+----------+--------+--------+--------+------------+-----------+\n",
            "|warehouse_id|      date|avg_temp|min_temp|max_temp|avg_humidity|avg_battery|\n",
            "+------------+----------+--------+--------+--------+------------+-----------+\n",
            "|         W45|2025-08-25|   24.47|    16.4|    31.2|       60.42|      75.93|\n",
            "|         W44|2025-08-25|   24.86|    17.9|    31.3|       59.07|      73.81|\n",
            "|         W29|2025-08-25|   25.28|    16.8|    34.4|       60.11|      73.28|\n",
            "|          W7|2025-08-25|   24.47|    16.8|    34.1|       59.49|      75.84|\n",
            "|         W34|2025-08-25|    25.5|    17.2|    35.1|        59.7|       74.2|\n",
            "|         W17|2025-08-25|   25.14|    18.9|    32.5|       59.75|      75.33|\n",
            "|         W21|2025-08-25|    25.0|    18.6|    30.9|       59.59|      72.27|\n",
            "|         W46|2025-08-25|   24.97|    16.6|    32.9|       59.77|      73.91|\n",
            "|          W1|2025-08-25|   25.19|    17.0|    34.3|       60.14|      73.49|\n",
            "|         W36|2025-08-25|   25.21|    17.0|    31.4|       60.15|      73.79|\n",
            "|         W27|2025-08-25|   25.46|    17.5|    32.4|        58.8|      77.75|\n",
            "|         W15|2025-08-25|    25.5|    18.6|    36.2|       59.99|      75.91|\n",
            "|         W37|2025-08-25|   25.39|    17.6|    34.7|       58.61|      75.45|\n",
            "|         W48|2025-08-25|   24.89|    18.1|    31.9|       59.94|      76.69|\n",
            "|         W12|2025-08-25|   25.04|    16.4|    32.6|       60.46|      75.14|\n",
            "|          W3|2025-08-25|   24.82|    16.7|    32.9|       59.82|      74.15|\n",
            "|          W5|2025-08-25|    25.3|    18.2|    30.9|       59.92|       76.0|\n",
            "|         W31|2025-08-25|    25.0|    17.8|    30.9|       58.98|      73.16|\n",
            "|         W26|2025-08-25|   24.98|    18.0|    33.5|       61.18|       76.5|\n",
            "|         W41|2025-08-25|   25.11|    19.0|    32.5|       58.42|      79.22|\n",
            "+------------+----------+--------+--------+--------+------------+-----------+\n",
            "only showing top 20 rows\n",
            "\n"
          ]
        }
      ]
    },
    {
      "cell_type": "markdown",
      "source": [
        "Add malfunction percentage\n"
      ],
      "metadata": {
        "id": "C43CzY8IICUC"
      }
    },
    {
      "cell_type": "code",
      "source": [
        "malfunction_pct=df.groupBy(\"warehouse_id\",\"date\")\\\n",
        "              .agg(round(100*sum(when(col(\"status\")==\"MALFUNCTION\",2).otherwise(0))/count(\"*\"),1).alias(\"malfunction_pct\"))\n",
        "malfunction_pct.show()"
      ],
      "metadata": {
        "colab": {
          "base_uri": "https://localhost:8080/"
        },
        "id": "Lzeo_-xxG4we",
        "outputId": "fc334527-6613-443c-c0fb-9558d9012680"
      },
      "execution_count": 107,
      "outputs": [
        {
          "output_type": "stream",
          "name": "stdout",
          "text": [
            "+------------+----------+---------------+\n",
            "|warehouse_id|      date|malfunction_pct|\n",
            "+------------+----------+---------------+\n",
            "|         W45|2025-08-25|            6.1|\n",
            "|         W44|2025-08-25|            2.0|\n",
            "|         W29|2025-08-25|            0.0|\n",
            "|          W7|2025-08-25|            4.1|\n",
            "|         W34|2025-08-25|            8.2|\n",
            "|         W17|2025-08-25|            6.4|\n",
            "|         W21|2025-08-25|            8.3|\n",
            "|         W46|2025-08-25|            2.1|\n",
            "|          W1|2025-08-25|            6.3|\n",
            "|         W36|2025-08-25|            6.3|\n",
            "|         W27|2025-08-25|            0.0|\n",
            "|         W15|2025-08-25|            2.1|\n",
            "|         W37|2025-08-25|            6.3|\n",
            "|         W48|2025-08-25|            6.4|\n",
            "|         W12|2025-08-25|            4.3|\n",
            "|          W3|2025-08-25|            8.5|\n",
            "|          W5|2025-08-25|            6.1|\n",
            "|         W31|2025-08-25|            6.2|\n",
            "|         W26|2025-08-25|            2.1|\n",
            "|         W41|2025-08-25|            4.2|\n",
            "+------------+----------+---------------+\n",
            "only showing top 20 rows\n",
            "\n"
          ]
        }
      ]
    },
    {
      "cell_type": "code",
      "source": [
        "daily_report=daily_metrics.join(malfunction_pct,on=[\"warehouse_id\",\"date\"],how=\"inner\")\\\n",
        "                           .join(cnt_missing,on=[\"warehouse_id\",\"date\"],how=\"inner\")\n",
        "daily_report.show()"
      ],
      "metadata": {
        "colab": {
          "base_uri": "https://localhost:8080/"
        },
        "id": "brX9pXlyR3Wh",
        "outputId": "4c54eb64-93f9-4e2a-9bf8-4316c5519a69"
      },
      "execution_count": 108,
      "outputs": [
        {
          "output_type": "stream",
          "name": "stdout",
          "text": [
            "+------------+----------+--------+--------+--------+------------+-----------+---------------+----------------+\n",
            "|warehouse_id|      date|avg_temp|min_temp|max_temp|avg_humidity|avg_battery|malfunction_pct|missing_readings|\n",
            "+------------+----------+--------+--------+--------+------------+-----------+---------------+----------------+\n",
            "|         W45|2025-08-25|   24.47|    16.4|    31.2|       60.42|      75.93|            6.1|              93|\n",
            "|         W44|2025-08-25|   24.86|    17.9|    31.3|       59.07|      73.81|            2.0|              94|\n",
            "|         W29|2025-08-25|   25.28|    16.8|    34.4|       60.11|      73.28|            0.0|              90|\n",
            "|          W7|2025-08-25|   24.47|    16.8|    34.1|       59.49|      75.84|            4.1|              93|\n",
            "|         W34|2025-08-25|    25.5|    17.2|    35.1|        59.7|       74.2|            8.2|              92|\n",
            "|         W17|2025-08-25|   25.14|    18.9|    32.5|       59.75|      75.33|            6.4|              89|\n",
            "|         W21|2025-08-25|    25.0|    18.6|    30.9|       59.59|      72.27|            8.3|              91|\n",
            "|         W46|2025-08-25|   24.97|    16.6|    32.9|       59.77|      73.91|            2.1|              92|\n",
            "|          W1|2025-08-25|   25.19|    17.0|    34.3|       60.14|      73.49|            6.3|              91|\n",
            "|         W36|2025-08-25|   25.21|    17.0|    31.4|       60.15|      73.79|            6.3|              90|\n",
            "|         W27|2025-08-25|   25.46|    17.5|    32.4|        58.8|      77.75|            0.0|              88|\n",
            "|         W15|2025-08-25|    25.5|    18.6|    36.2|       59.99|      75.91|            2.1|              91|\n",
            "|         W37|2025-08-25|   25.39|    17.6|    34.7|       58.61|      75.45|            6.3|              91|\n",
            "|         W48|2025-08-25|   24.89|    18.1|    31.9|       59.94|      76.69|            6.4|              89|\n",
            "|         W12|2025-08-25|   25.04|    16.4|    32.6|       60.46|      75.14|            4.3|              89|\n",
            "|          W3|2025-08-25|   24.82|    16.7|    32.9|       59.82|      74.15|            8.5|              89|\n",
            "|          W5|2025-08-25|    25.3|    18.2|    30.9|       59.92|       76.0|            6.1|              93|\n",
            "|         W31|2025-08-25|    25.0|    17.8|    30.9|       58.98|      73.16|            6.2|              92|\n",
            "|         W26|2025-08-25|   24.98|    18.0|    33.5|       61.18|       76.5|            2.1|              91|\n",
            "|         W41|2025-08-25|   25.11|    19.0|    32.5|       58.42|      79.22|            4.2|              91|\n",
            "+------------+----------+--------+--------+--------+------------+-----------+---------------+----------------+\n",
            "only showing top 20 rows\n",
            "\n"
          ]
        }
      ]
    },
    {
      "cell_type": "markdown",
      "source": [
        "Outlier Detection Table"
      ],
      "metadata": {
        "id": "3EGzyw5fd7Px"
      }
    },
    {
      "cell_type": "code",
      "source": [
        "outliers=df.withColumn(\"outlier_type\",\n",
        "                       when(col(\"temperature\")<-20,lit(\"Temp low\"))\n",
        "                       .when(col(\"temperature\")>60,lit(\"Temp high\"))\n",
        "                       .when(col(\"humidity\")>90,lit(\"High humidity\")))\\\n",
        "                       .filter(col(\"outlier_type\").isNotNull())\\\n",
        "                       .select(\"sensor_id\",\"warehouse_id\",\"date\",\"outlier_type\",\"temperature\",\"humidity\")\n",
        "outliers.show()"
      ],
      "metadata": {
        "colab": {
          "base_uri": "https://localhost:8080/"
        },
        "id": "3-JFV2E2ZZwC",
        "outputId": "5305ac35-a72d-4838-dfc3-041fdbc39643"
      },
      "execution_count": 111,
      "outputs": [
        {
          "output_type": "stream",
          "name": "stdout",
          "text": [
            "+---------+------------+----------+-------------+-----------+--------+\n",
            "|sensor_id|warehouse_id|      date| outlier_type|temperature|humidity|\n",
            "+---------+------------+----------+-------------+-----------+--------+\n",
            "|  S_W34_3|         W34|2025-08-25|     Temp low|     -100.0|    49.9|\n",
            "|   S_W8_1|          W8|2025-08-25|High humidity|       22.1|    95.0|\n",
            "|   S_W1_5|          W1|2025-08-25|     Temp low|     -100.0|    61.6|\n",
            "|  S_W17_2|         W17|2025-08-25|High humidity|       21.5|    95.0|\n",
            "|  S_W34_4|         W34|2025-08-25|High humidity|       22.9|    95.0|\n",
            "|  S_W15_4|         W15|2025-08-25|     Temp low|     -100.0|    56.1|\n",
            "|  S_W28_2|         W28|2025-08-25|    Temp high|      100.0|    61.9|\n",
            "|  S_W39_2|         W39|2025-08-25|     Temp low|     -100.0|    52.4|\n",
            "|  S_W41_5|         W41|2025-08-25|    Temp high|      100.0|    57.0|\n",
            "|  S_W14_1|         W14|2025-08-25|High humidity|       29.3|    95.0|\n",
            "|  S_W34_2|         W34|2025-08-25|    Temp high|      100.0|    63.2|\n",
            "|  S_W20_3|         W20|2025-08-25|High humidity|       28.5|    95.0|\n",
            "|   S_W6_1|          W6|2025-08-25|    Temp high|      100.0|    60.7|\n",
            "|  S_W17_5|         W17|2025-08-25|     Temp low|     -100.0|    54.8|\n",
            "|  S_W43_1|         W43|2025-08-25|    Temp high|      100.0|    60.2|\n",
            "|  S_W14_4|         W14|2025-08-25|    Temp high|      100.0|    64.2|\n",
            "|  S_W13_5|         W13|2025-08-25|High humidity|       27.3|    95.0|\n",
            "|  S_W40_2|         W40|2025-08-25|    Temp high|      100.0|    55.1|\n",
            "|   S_W2_5|          W2|2025-08-25|    Temp high|      100.0|    60.3|\n",
            "|   S_W8_5|          W8|2025-08-25|     Temp low|     -100.0|    55.4|\n",
            "+---------+------------+----------+-------------+-----------+--------+\n",
            "only showing top 20 rows\n",
            "\n"
          ]
        }
      ]
    }
  ]
}