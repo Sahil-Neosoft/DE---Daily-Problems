{
  "nbformat": 4,
  "nbformat_minor": 0,
  "metadata": {
    "colab": {
      "provenance": []
    },
    "kernelspec": {
      "name": "python3",
      "display_name": "Python 3"
    },
    "language_info": {
      "name": "python"
    }
  },
  "cells": [
    {
      "cell_type": "code",
      "execution_count": 1,
      "metadata": {
        "colab": {
          "base_uri": "https://localhost:8080/"
        },
        "id": "i9ddthQYz_kj",
        "outputId": "dd0873e0-5fa2-49c0-bdd3-d7381d1757b2"
      },
      "outputs": [
        {
          "output_type": "stream",
          "name": "stdout",
          "text": [
            "Requirement already satisfied: pyspark in /usr/local/lib/python3.12/dist-packages (3.5.1)\n",
            "Requirement already satisfied: py4j==0.10.9.7 in /usr/local/lib/python3.12/dist-packages (from pyspark) (0.10.9.7)\n"
          ]
        }
      ],
      "source": [
        "pip install pyspark"
      ]
    },
    {
      "cell_type": "code",
      "source": [
        "from pyspark.sql.functions import *\n",
        "from pyspark.sql.window import Window\n",
        "from pyspark.sql import SparkSession\n",
        "\n",
        "spark=SparkSession.builder.appName(\"Day 7\").getOrCreate()"
      ],
      "metadata": {
        "id": "-x0ndX_C0HAX"
      },
      "execution_count": 2,
      "outputs": []
    },
    {
      "cell_type": "markdown",
      "source": [
        "Problem 1: PySpark – Calculate Session Gaps for Users\n"
      ],
      "metadata": {
        "id": "2sOL6Pyl0k5A"
      }
    },
    {
      "cell_type": "markdown",
      "source": [
        "You have a PySpark DataFrame with user session information. Each row represents a session start date for a user. Write a PySpark program to calculate the gap in days between consecutive sessions for each user.\n",
        "\n"
      ],
      "metadata": {
        "id": "5JWqxv8Q0vyS"
      }
    },
    {
      "cell_type": "code",
      "source": [
        "data = [\n",
        "    (\"U1\", \"2025-01-01\"),\n",
        "    (\"U1\", \"2025-01-05\"),\n",
        "    (\"U1\", \"2025-01-10\"),\n",
        "    (\"U2\", \"2025-01-02\"),\n",
        "    (\"U2\", \"2025-01-04\")\n",
        "]\n",
        "columns = [\"user_id\", \"session_date\"]\n",
        "\n",
        "df = spark.createDataFrame(data, columns).withColumn(\"session_date\", to_date(\"session_date\"))\n",
        "df.show()"
      ],
      "metadata": {
        "colab": {
          "base_uri": "https://localhost:8080/"
        },
        "id": "IAK3gau40kHf",
        "outputId": "9484a4ee-68c3-4ed4-96f4-5723a0aecec2"
      },
      "execution_count": 3,
      "outputs": [
        {
          "output_type": "stream",
          "name": "stdout",
          "text": [
            "+-------+------------+\n",
            "|user_id|session_date|\n",
            "+-------+------------+\n",
            "|     U1|  2025-01-01|\n",
            "|     U1|  2025-01-05|\n",
            "|     U1|  2025-01-10|\n",
            "|     U2|  2025-01-02|\n",
            "|     U2|  2025-01-04|\n",
            "+-------+------------+\n",
            "\n"
          ]
        }
      ]
    },
    {
      "cell_type": "code",
      "source": [
        "window=Window.partitionBy(\"user_id\").orderBy(\"session_date\")\n",
        "df_with_date=df.withColumn(\"last_session\",lag(\"session_date\").over(window))\\\n",
        "                .withColumn(\"days_since_last_session\",datediff(\"session_date\",\"last_session\"))\\\n",
        "                .drop(\"last_session\").show()"
      ],
      "metadata": {
        "colab": {
          "base_uri": "https://localhost:8080/"
        },
        "id": "Nj7r7UkTBHaw",
        "outputId": "10e3734e-6f1d-4163-de65-7a5e32881ac7"
      },
      "execution_count": 4,
      "outputs": [
        {
          "output_type": "stream",
          "name": "stdout",
          "text": [
            "+-------+------------+-----------------------+\n",
            "|user_id|session_date|days_since_last_session|\n",
            "+-------+------------+-----------------------+\n",
            "|     U1|  2025-01-01|                   NULL|\n",
            "|     U1|  2025-01-05|                      4|\n",
            "|     U1|  2025-01-10|                      5|\n",
            "|     U2|  2025-01-02|                   NULL|\n",
            "|     U2|  2025-01-04|                      2|\n",
            "+-------+------------+-----------------------+\n",
            "\n"
          ]
        }
      ]
    },
    {
      "cell_type": "markdown",
      "source": [
        "Problem 2: SQL – Find Customers with Only One Purchase\n"
      ],
      "metadata": {
        "id": "0GMzrv16VC7C"
      }
    },
    {
      "cell_type": "markdown",
      "source": [
        "You have a SQL table purchases(customer_id, purchase_date, amount) representing customer purchases. Write a SQL query to find all customers who made exactly one purchase.\n",
        "\n"
      ],
      "metadata": {
        "id": "H8JNJoJjVO8W"
      }
    },
    {
      "cell_type": "code",
      "source": [
        "data = [\n",
        "    (\"C1\", \"2025-01-01\", 200),\n",
        "    (\"C1\", \"2025-01-10\", 300),\n",
        "    (\"C2\", \"2025-01-05\", 150),\n",
        "    (\"C3\", \"2025-01-02\", 100),\n",
        "    (\"C3\", \"2025-01-04\", 200),\n",
        "]\n",
        "\n",
        "columns = [\"customer_id\", \"purchase_date\", \"amount\"]\n",
        "\n",
        "df = spark.createDataFrame(data, columns)\n",
        "\n",
        "df.createOrReplaceTempView(\"purchases\")"
      ],
      "metadata": {
        "id": "iKvgIp5G2KuF"
      },
      "execution_count": 8,
      "outputs": []
    },
    {
      "cell_type": "code",
      "source": [
        "spark.sql(\n",
        "    \"\"\"\n",
        "    select customer_id from purchases\n",
        "    group by customer_id\n",
        "    having count(*)=1\n",
        "    \"\"\"\n",
        ").show()"
      ],
      "metadata": {
        "id": "rv5Lur7eVI2L",
        "colab": {
          "base_uri": "https://localhost:8080/"
        },
        "outputId": "75644aa8-4eaa-4d87-c263-2b9484c6160f"
      },
      "execution_count": 7,
      "outputs": [
        {
          "output_type": "stream",
          "name": "stdout",
          "text": [
            "+-----------+\n",
            "|customer_id|\n",
            "+-----------+\n",
            "|         C2|\n",
            "+-----------+\n",
            "\n"
          ]
        }
      ]
    }
  ]
}