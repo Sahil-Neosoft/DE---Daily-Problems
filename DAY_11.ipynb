{
  "nbformat": 4,
  "nbformat_minor": 0,
  "metadata": {
    "colab": {
      "provenance": []
    },
    "kernelspec": {
      "name": "python3",
      "display_name": "Python 3"
    },
    "language_info": {
      "name": "python"
    }
  },
  "cells": [
    {
      "cell_type": "code",
      "execution_count": 1,
      "metadata": {
        "colab": {
          "base_uri": "https://localhost:8080/"
        },
        "id": "1O03hOfAzP4i",
        "outputId": "97c94904-56ea-42e7-b9eb-8b583283927d"
      },
      "outputs": [
        {
          "output_type": "stream",
          "name": "stdout",
          "text": [
            "Requirement already satisfied: pyspark in /usr/local/lib/python3.12/dist-packages (3.5.1)\n",
            "Requirement already satisfied: py4j==0.10.9.7 in /usr/local/lib/python3.12/dist-packages (from pyspark) (0.10.9.7)\n"
          ]
        }
      ],
      "source": [
        "pip install pyspark"
      ]
    },
    {
      "cell_type": "code",
      "source": [
        "from pyspark.sql import SparkSession\n",
        "from pyspark.sql.functions import *\n",
        "from pyspark.sql.window import Window\n",
        "spark=SparkSession.builder.appName(\"Day 11\").getOrCreate()"
      ],
      "metadata": {
        "id": "8fUQ1vTvzwg0"
      },
      "execution_count": 2,
      "outputs": []
    },
    {
      "cell_type": "code",
      "source": [
        "df=spark.read.csv(\"/content/sample_data/ecommerce_orders.csv\",\n",
        "inferSchema=True,\n",
        "header=True)\n",
        "df.show()"
      ],
      "metadata": {
        "colab": {
          "base_uri": "https://localhost:8080/"
        },
        "id": "qC4JcZWqzyBV",
        "outputId": "f013f998-abe8-47e7-9c61-b8b3e786c839"
      },
      "execution_count": 3,
      "outputs": [
        {
          "output_type": "stream",
          "name": "stdout",
          "text": [
            "+--------+-----------+----------+-----------+--------------+-------------------+------+--------+------------+---------+\n",
            "|order_id|customer_id|product_id|   category|payment_method|         order_time| price|quantity|total_amount|   status|\n",
            "+--------+-----------+----------+-----------+--------------+-------------------+------+--------+------------+---------+\n",
            "| O898230|       C187|       P40|      Books|    Debit Card|2025-08-23 00:06:00|297.45|       1|      297.45|Completed|\n",
            "| O483710|       C178|       P44|     Sports|           UPI|2025-08-24 03:01:00|478.34|       3|     1435.02|Completed|\n",
            "| O556243|       C139|       P46|Electronics|           UPI|2025-08-21 05:18:00|187.59|       4|      750.36|Completed|\n",
            "| O745017|        C42|       P30|       Home|   Credit Card|2025-08-23 01:32:00|478.53|       4|     1914.12|Completed|\n",
            "| O986474|        C79|       P23|       NULL|    Debit Card|2025-08-22 09:39:00|224.06|       1|      224.06|Completed|\n",
            "| O474871|        C99|       P19|   Clothing|        PayPal|2025-08-21 09:39:00| 31.28|       2|       62.56|Completed|\n",
            "| O642428|        C35|       P46|   Clothing|   Credit Card|2025-08-21 08:41:00|100.16|       3|      300.48|Completed|\n",
            "| O597292|       C124|        P2|Electronics|          Cash|2025-08-21 02:52:00|370.64|       1|      370.64|Completed|\n",
            "| O424145|        C97|       P40|     Sports|          Cash|2025-08-22 22:12:00|430.18|       1|      430.18|Completed|\n",
            "| O212115|       C152|       P23|   Clothing|   Credit Card|2025-08-21 12:00:00|456.49|       4|     1825.96|Completed|\n",
            "| O173110|        C51|       P48|      Books|   Credit Card|2025-08-21 09:11:00| 322.1|       4|      1288.4|Cancelled|\n",
            "| O341684|        C94|       P15|     Sports|    Debit Card|2025-08-21 01:14:00|203.62|       2|      407.24|Completed|\n",
            "| O606701|       C130|       P41|       Home|          Cash|2025-08-24 02:07:00|  63.7|       1|        63.7|Completed|\n",
            "| O244015|        C47|       P11|       NULL|           UPI|2025-08-20 20:58:00|493.97|       2|      987.94|Completed|\n",
            "| O302707|        C22|        P7|     Sports|          Cash|2025-08-20 02:55:00|122.56|       3|      367.68|Completed|\n",
            "| O908741|       C178|       P23|      Books|   Credit Card|2025-08-21 13:25:00|280.45|       1|      280.45|Completed|\n",
            "| O141810|       C118|       P42|      Books|           UPI|2025-08-20 11:16:00|300.19|       1|      300.19|Completed|\n",
            "| O838007|        C52|       P35|     Sports|           UPI|2025-08-23 11:39:00|475.34|       4|     1901.36|Completed|\n",
            "| O193944|         C7|       P50|   Clothing|          Cash|2025-08-21 22:23:00|387.49|       5|     1937.45|Completed|\n",
            "| O741481|       C165|        P1|       Home|   Credit Card|2025-08-22 01:46:00|271.67|       1|      271.67|Completed|\n",
            "+--------+-----------+----------+-----------+--------------+-------------------+------+--------+------------+---------+\n",
            "only showing top 20 rows\n",
            "\n"
          ]
        }
      ]
    },
    {
      "cell_type": "code",
      "source": [
        "df=df.withColumn(\"order_time\",to_timestamp(col(\"order_time\"))).withColumn(\"date\",to_date(\"order_time\").alias(\"date\"))"
      ],
      "metadata": {
        "id": "LN5Inq0Y0IAh"
      },
      "execution_count": 4,
      "outputs": []
    },
    {
      "cell_type": "markdown",
      "source": [
        "Daily Sales Metrics\n",
        "\n",
        "Total orders per day\\\n",
        "Total and average revenue per day\\\n",
        "Number of unique customers per day\\\n",
        "Percentage of cancelled orders"
      ],
      "metadata": {
        "id": "ooEG6JkfA-mo"
      }
    },
    {
      "cell_type": "code",
      "source": [
        "daily_metrics=df.groupBy(\"date\").agg(\n",
        "    count(\"order_id\").alias(\"total_orders\"),\n",
        "    round(sum(\"total_amount\"),2).alias(\"total_revenue\"),\n",
        "    round(avg(\"total_amount\"),2).alias(\"average_revenue_per_order\"),\n",
        "    countDistinct(\"customer_id\").alias(\"unique_customers\"),\n",
        "    round(100*(sum(when(col(\"status\")==\"Cancelled\",1).otherwise(0)))/count(\"order_id\"),2).alias(\"cancelled_pct\")\n",
        ")\n",
        "daily_metrics.show()"
      ],
      "metadata": {
        "colab": {
          "base_uri": "https://localhost:8080/"
        },
        "id": "VWsdSaPw_DQX",
        "outputId": "703d4cd5-de33-425a-bbf5-8b575d9a677a"
      },
      "execution_count": 5,
      "outputs": [
        {
          "output_type": "stream",
          "name": "stdout",
          "text": [
            "+----------+------------+-------------+-------------------------+----------------+-------------+\n",
            "|      date|total_orders|total_revenue|average_revenue_per_order|unique_customers|cancelled_pct|\n",
            "+----------+------------+-------------+-------------------------+----------------+-------------+\n",
            "|2025-08-20|         300|    234330.63|                    781.1|             163|        10.33|\n",
            "|2025-08-22|         300|    219296.25|                   730.99|             158|         9.67|\n",
            "|2025-08-23|         300|     243782.0|                   812.61|             167|         7.33|\n",
            "|2025-08-21|         300|    223531.08|                    745.1|             164|         9.33|\n",
            "|2025-08-24|         300|    250588.91|                    835.3|             154|        12.67|\n",
            "+----------+------------+-------------+-------------------------+----------------+-------------+\n",
            "\n"
          ]
        }
      ]
    },
    {
      "cell_type": "markdown",
      "source": [
        "Top Products Analysis\n",
        "\n",
        "Most sold products by quantity\\\n",
        "Highest revenue products per day\\\n",
        "Product category sales distribution"
      ],
      "metadata": {
        "id": "JW1HM0EKIOmN"
      }
    },
    {
      "cell_type": "code",
      "source": [
        "top_products=df.groupBy(\"date\",\"product_id\",\"category\").agg(\n",
        "                  sum(col(\"quantity\")).alias(\"total_quantity\"),\n",
        "                  round(sum(col(\"total_amount\")),2).alias(\"total_revenue\")\n",
        "              ).orderBy(\"date\",desc(\"total_revenue\"))\n",
        "top_products.show()"
      ],
      "metadata": {
        "id": "I_LdpNteB0of",
        "colab": {
          "base_uri": "https://localhost:8080/"
        },
        "outputId": "7524304f-95f5-4799-ebb0-ddce78d3458c"
      },
      "execution_count": 9,
      "outputs": [
        {
          "output_type": "stream",
          "name": "stdout",
          "text": [
            "+----------+----------+-----------+--------------+-------------+\n",
            "|      date|product_id|   category|total_quantity|total_revenue|\n",
            "+----------+----------+-----------+--------------+-------------+\n",
            "|2025-08-20|       P40|       Home|            18|      6025.22|\n",
            "|2025-08-20|       P27|Electronics|            13|       5198.5|\n",
            "|2025-08-20|       P24|      Books|            19|      4240.95|\n",
            "|2025-08-20|       P40|   Clothing|             9|       3932.8|\n",
            "|2025-08-20|       P26|       Home|            13|      3856.45|\n",
            "|2025-08-20|       P31|   Clothing|             9|      3680.52|\n",
            "|2025-08-20|       P19|     Sports|            13|      3557.63|\n",
            "|2025-08-20|       P41|Electronics|            11|      3398.16|\n",
            "|2025-08-20|       P14|      Books|            13|       3365.8|\n",
            "|2025-08-20|       P30|     Sports|            10|       3349.2|\n",
            "|2025-08-20|        P9|       Home|             7|      3039.82|\n",
            "|2025-08-20|       P23|Electronics|             7|      2929.17|\n",
            "|2025-08-20|       P29|       Home|             8|      2837.95|\n",
            "|2025-08-20|       P43|   Clothing|             7|      2744.65|\n",
            "|2025-08-20|        P7|      Books|             9|      2629.61|\n",
            "|2025-08-20|        P2|   Clothing|             8|       2593.0|\n",
            "|2025-08-20|       P36|     Sports|            12|      2574.31|\n",
            "|2025-08-20|       P43|       Home|            12|      2471.28|\n",
            "|2025-08-20|        P7|     Sports|             8|      2452.43|\n",
            "|2025-08-20|       P50|   Clothing|             5|      2413.85|\n",
            "+----------+----------+-----------+--------------+-------------+\n",
            "only showing top 20 rows\n",
            "\n"
          ]
        }
      ]
    },
    {
      "cell_type": "markdown",
      "source": [
        "Customer Insights\n",
        "\n",
        "Average order value per customer\\\n",
        "Total orders per customer\\\n",
        "Top paying customers"
      ],
      "metadata": {
        "id": "jR1LuYLqN4jR"
      }
    },
    {
      "cell_type": "code",
      "source": [
        "cust_insight=df.groupBy(\"customer_id\").agg(\n",
        "    round(avg(col(\"total_amount\")),2).alias(\"Avg_order\"),\n",
        "    count(col(\"order_id\")).alias(\"Total_orders\"),\n",
        "    round(sum(col(\"total_amount\")),2).alias(\"Total_spent\")\n",
        ").orderBy(desc(\"Total_spent\"))\n",
        "cust_insight.show()"
      ],
      "metadata": {
        "colab": {
          "base_uri": "https://localhost:8080/"
        },
        "id": "B7kyGDDlMPbV",
        "outputId": "f868cfab-364c-4655-a96a-094e2c027ee8"
      },
      "execution_count": 12,
      "outputs": [
        {
          "output_type": "stream",
          "name": "stdout",
          "text": [
            "+-----------+---------+------------+-----------+\n",
            "|customer_id|Avg_order|Total_orders|Total_spent|\n",
            "+-----------+---------+------------+-----------+\n",
            "|        C54|   981.77|          15|   14726.59|\n",
            "|        C63|  1067.23|          12|   12806.81|\n",
            "|        C33|  1147.86|          11|   12626.49|\n",
            "|        C45|  1470.33|           8|   11762.67|\n",
            "|       C108|  1047.57|          11|   11523.32|\n",
            "|        C94|   677.15|          17|   11511.58|\n",
            "|        C56|  1109.63|          10|   11096.33|\n",
            "|       C189|   922.83|          11|   10151.08|\n",
            "|       C155|   922.03|          11|   10142.31|\n",
            "|       C160|   996.72|          10|    9967.19|\n",
            "|       C196|   992.93|          10|    9929.29|\n",
            "|        C43|  1069.02|           9|    9621.22|\n",
            "|        C62|   845.19|          11|    9297.09|\n",
            "|        C76|  1327.67|           7|    9293.72|\n",
            "|        C44|  1020.65|           9|    9185.83|\n",
            "|       C147|  1012.51|           9|    9112.59|\n",
            "|       C175|   905.01|          10|    9050.09|\n",
            "|        C75|   893.09|          10|    8930.85|\n",
            "|       C174|   989.11|           9|    8901.96|\n",
            "|         C7|   983.52|           9|    8851.68|\n",
            "+-----------+---------+------------+-----------+\n",
            "only showing top 20 rows\n",
            "\n"
          ]
        }
      ]
    },
    {
      "cell_type": "markdown",
      "source": [
        "Payment Method Analysis\n",
        "\n",
        "Count of orders by payment method\\\n",
        "Revenue split by payment method"
      ],
      "metadata": {
        "id": "v7fk2XoiRFQR"
      }
    },
    {
      "cell_type": "code",
      "source": [
        "payment_df=df.groupBy(\"date\",\"payment_method\").agg(\n",
        "    count(\"order_id\").alias(\"order_count\"),\n",
        "    round(sum(col(\"total_amount\")),2).alias(\"total_revenue\")\n",
        ").orderBy(\"date\",desc(\"total_revenue\"))\n",
        "payment_df.show()"
      ],
      "metadata": {
        "colab": {
          "base_uri": "https://localhost:8080/"
        },
        "id": "UVNgcnOJQzVJ",
        "outputId": "2881deb0-c4fc-4e96-8463-ac68f26864b0"
      },
      "execution_count": 15,
      "outputs": [
        {
          "output_type": "stream",
          "name": "stdout",
          "text": [
            "+----------+--------------+-----------+-------------+\n",
            "|      date|payment_method|order_count|total_revenue|\n",
            "+----------+--------------+-----------+-------------+\n",
            "|2025-08-20|           UPI|         64|     56265.15|\n",
            "|2025-08-20|   Credit Card|         68|     52360.11|\n",
            "|2025-08-20|        PayPal|         62|     50144.55|\n",
            "|2025-08-20|    Debit Card|         56|     38762.11|\n",
            "|2025-08-20|          Cash|         46|      34073.1|\n",
            "|2025-08-20|          NULL|          4|      2725.61|\n",
            "|2025-08-21|           UPI|         66|     53704.38|\n",
            "|2025-08-21|    Debit Card|         64|     51234.18|\n",
            "|2025-08-21|   Credit Card|         55|     39282.82|\n",
            "|2025-08-21|        PayPal|         53|     38300.42|\n",
            "|2025-08-21|          Cash|         53|     33439.34|\n",
            "|2025-08-21|          NULL|          9|      7569.94|\n",
            "|2025-08-22|          Cash|         67|     52474.91|\n",
            "|2025-08-22|           UPI|         63|     47395.29|\n",
            "|2025-08-22|   Credit Card|         58|     43246.16|\n",
            "|2025-08-22|        PayPal|         48|     38111.84|\n",
            "|2025-08-22|    Debit Card|         60|     36065.71|\n",
            "|2025-08-22|          NULL|          4|      2002.34|\n",
            "|2025-08-23|   Credit Card|         62|     52585.95|\n",
            "|2025-08-23|        PayPal|         63|     51927.44|\n",
            "+----------+--------------+-----------+-------------+\n",
            "only showing top 20 rows\n",
            "\n"
          ]
        }
      ]
    },
    {
      "cell_type": "code",
      "source": [],
      "metadata": {
        "id": "o8ay9qaFR0ii"
      },
      "execution_count": 15,
      "outputs": []
    }
  ]
}