{
  "nbformat": 4,
  "nbformat_minor": 0,
  "metadata": {
    "colab": {
      "provenance": []
    },
    "kernelspec": {
      "name": "python3",
      "display_name": "Python 3"
    },
    "language_info": {
      "name": "python"
    }
  },
  "cells": [
    {
      "cell_type": "code",
      "execution_count": 1,
      "metadata": {
        "colab": {
          "base_uri": "https://localhost:8080/"
        },
        "id": "mumsqsLPXMUg",
        "outputId": "0df19ff4-d0d0-4bfc-f7e7-98d398f43e28"
      },
      "outputs": [
        {
          "output_type": "stream",
          "name": "stdout",
          "text": [
            "Requirement already satisfied: pyspark in /usr/local/lib/python3.12/dist-packages (3.5.1)\n",
            "Requirement already satisfied: py4j==0.10.9.7 in /usr/local/lib/python3.12/dist-packages (from pyspark) (0.10.9.7)\n"
          ]
        }
      ],
      "source": [
        "pip install pyspark"
      ]
    },
    {
      "cell_type": "code",
      "source": [
        "from pyspark.sql.functions import *\n",
        "from pyspark.sql import SparkSession\n",
        "from pyspark.sql.window import Window\n",
        "spark=SparkSession.builder \\\n",
        "      .appName(\"Day 3\") \\\n",
        "      .getOrCreate()"
      ],
      "metadata": {
        "id": "dA-QRakxXRNG"
      },
      "execution_count": 2,
      "outputs": []
    },
    {
      "cell_type": "markdown",
      "source": [
        "Problem 1: PySpark – Identify First Purchase per Customer\n"
      ],
      "metadata": {
        "id": "1Tk4X6Q6Xvy7"
      }
    },
    {
      "cell_type": "markdown",
      "source": [
        "Problem Statement\n",
        "You have a PySpark DataFrame containing customer purchase data. Each row represents a purchase. Write a PySpark program to find the first purchase date for each customer and the amount spent on that date."
      ],
      "metadata": {
        "id": "cH0XKg84X1fl"
      }
    },
    {
      "cell_type": "code",
      "source": [
        "data = [\n",
        "    (101, \"2025-01-03\", 250),\n",
        "    (101, \"2025-01-05\", 300),\n",
        "    (102, \"2025-01-01\", 150),\n",
        "    (102, \"2025-01-02\", 200),\n",
        "    (103, \"2025-01-04\", 500),\n",
        "]\n",
        "columns = [\"customer_id\", \"purchase_date\", \"amount\"]\n",
        "\n",
        "purchases = spark.createDataFrame(data, columns)\n",
        "\n",
        "purchases = purchases.withColumn(\"purchase_date\", to_date(col(\"purchase_date\"), \"yyyy-MM-dd\"))\n",
        "purchases.show()"
      ],
      "metadata": {
        "colab": {
          "base_uri": "https://localhost:8080/"
        },
        "id": "OsqOVC9kXu7F",
        "outputId": "e451f03c-7249-4b55-f7ef-846f73485971"
      },
      "execution_count": 4,
      "outputs": [
        {
          "output_type": "stream",
          "name": "stdout",
          "text": [
            "+-----------+-------------+------+\n",
            "|customer_id|purchase_date|amount|\n",
            "+-----------+-------------+------+\n",
            "|        101|   2025-01-03|   250|\n",
            "|        101|   2025-01-05|   300|\n",
            "|        102|   2025-01-01|   150|\n",
            "|        102|   2025-01-02|   200|\n",
            "|        103|   2025-01-04|   500|\n",
            "+-----------+-------------+------+\n",
            "\n"
          ]
        }
      ]
    },
    {
      "cell_type": "code",
      "source": [
        "window=Window.partitionBy(\"customer_id\").orderBy(col(\"purchase_date\").desc())\n",
        "result=purchases.withColumn(\"rn\",row_number().over(window)).filter(col(\"rn\")==1).select(\"customer_id\",\"purchase_date\",\"amount\").show()\n"
      ],
      "metadata": {
        "colab": {
          "base_uri": "https://localhost:8080/"
        },
        "id": "lmX6flpZa_Sb",
        "outputId": "5dbf7b89-9aef-4c2d-c48f-9b374421f871"
      },
      "execution_count": 5,
      "outputs": [
        {
          "output_type": "stream",
          "name": "stdout",
          "text": [
            "+-----------+-------------+------+\n",
            "|customer_id|purchase_date|amount|\n",
            "+-----------+-------------+------+\n",
            "|        101|   2025-01-05|   300|\n",
            "|        102|   2025-01-02|   200|\n",
            "|        103|   2025-01-04|   500|\n",
            "+-----------+-------------+------+\n",
            "\n"
          ]
        }
      ]
    },
    {
      "cell_type": "markdown",
      "source": [
        "Problem 2: SQL – Detect Employees with Salary Changes"
      ],
      "metadata": {
        "id": "TQ0dz_cQdJyV"
      }
    },
    {
      "cell_type": "markdown",
      "source": [
        "Problem Statement\n",
        "You have a table employee_salaries(emp_id, effective_date, salary) containing salary history for employees. Write a SQL query to find employees whose salary changed more than once and display the number of changes for each.\n",
        "\n"
      ],
      "metadata": {
        "id": "SsEoVywxdODb"
      }
    },
    {
      "cell_type": "code",
      "source": [
        "data = [\n",
        "    (1, \"2025-01-01\", 50000),\n",
        "    (1, \"2025-02-01\", 55000),\n",
        "    (1, \"2025-03-01\", 60000),\n",
        "    (2, \"2025-01-15\", 40000),\n",
        "    (2, \"2025-03-01\", 45000),\n",
        "    (3, \"2025-01-10\", 30000),\n",
        "]\n",
        "columns = [\"emp_id\", \"effective_date\", \"salary\"]\n",
        "\n",
        "employee_salaries = spark.createDataFrame(data, columns)\n",
        "employee_salaries.createOrReplaceTempView(\"employee_salaries\")"
      ],
      "metadata": {
        "id": "fur5CB1udNYw"
      },
      "execution_count": 6,
      "outputs": []
    },
    {
      "cell_type": "code",
      "source": [
        "result = spark.sql(\"\"\"\n",
        "WITH salary_changes AS (\n",
        "    SELECT\n",
        "        emp_id,\n",
        "        effective_date,\n",
        "        salary,\n",
        "        LAG(salary) OVER (PARTITION BY emp_id ORDER BY effective_date) AS prev_salary\n",
        "    FROM employee_salaries\n",
        ")\n",
        "SELECT\n",
        "    emp_id,\n",
        "    COUNT(*) FILTER (WHERE salary <> prev_salary) AS salary_change_count\n",
        "FROM salary_changes\n",
        "GROUP BY emp_id\n",
        "HAVING salary_change_count > 0\n",
        "\"\"\")\n",
        "\n",
        "result.show()"
      ],
      "metadata": {
        "colab": {
          "base_uri": "https://localhost:8080/"
        },
        "id": "B9zU27N3kzgz",
        "outputId": "dbe51fbf-8df6-4dca-c65e-0ef66d93855a"
      },
      "execution_count": 7,
      "outputs": [
        {
          "output_type": "stream",
          "name": "stdout",
          "text": [
            "+------+-------------------+\n",
            "|emp_id|salary_change_count|\n",
            "+------+-------------------+\n",
            "|     1|                  2|\n",
            "|     2|                  1|\n",
            "+------+-------------------+\n",
            "\n"
          ]
        }
      ]
    }
  ]
}